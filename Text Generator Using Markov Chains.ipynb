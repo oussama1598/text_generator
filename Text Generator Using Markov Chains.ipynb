{
 "cells": [
  {
   "cell_type": "markdown",
   "metadata": {},
   "source": [
    "## This code ensures that we can load our own external modules"
   ]
  },
  {
   "cell_type": "code",
   "execution_count": 1,
   "metadata": {},
   "outputs": [],
   "source": [
    "import os\n",
    "import sys\n",
    "sys.path.insert(0, os.path.abspath('../'))"
   ]
  },
  {
   "cell_type": "markdown",
   "metadata": {},
   "source": [
    "## Loading all of the external modules that we have built"
   ]
  },
  {
   "cell_type": "code",
   "execution_count": 2,
   "metadata": {},
   "outputs": [],
   "source": [
    "from src.modules.text_generator import TextGenerator"
   ]
  },
  {
   "cell_type": "markdown",
   "metadata": {},
   "source": [
    "## Step1"
   ]
  },
  {
   "cell_type": "markdown",
   "metadata": {},
   "source": [
    "Generating a probablity matrix for the generator of order 2 and using caracters as transitions\n",
    "\n",
    "The text was scraped from wikipedia using a module that we have created.\n",
    "\n",
    "The module we built is capable of handeling different orders as well as different split_types either chars or words"
   ]
  },
  {
   "cell_type": "code",
   "execution_count": 3,
   "metadata": {},
   "outputs": [],
   "source": [
    "text_generator = TextGenerator(\n",
    "    order=2,\n",
    "    split_type='chars'\n",
    ")"
   ]
  },
  {
   "cell_type": "markdown",
   "metadata": {},
   "source": [
    "We can use the module to load an external text from any website,\n",
    "A list of links is allowed to load multiple texts from multiple sources"
   ]
  },
  {
   "cell_type": "code",
   "execution_count": 4,
   "metadata": {},
   "outputs": [],
   "source": [
    "text_generator.load_article(['https://en.wikipedia.org/wiki/SpaceX'])"
   ]
  },
  {
   "cell_type": "markdown",
   "metadata": {},
   "source": [
    "We then can use it to generate a probabilty matrix"
   ]
  },
  {
   "cell_type": "code",
   "execution_count": 5,
   "metadata": {},
   "outputs": [],
   "source": [
    "text_generator.get_probability_matrix()"
   ]
  },
  {
   "cell_type": "markdown",
   "metadata": {},
   "source": [
    "## Step 2"
   ]
  },
  {
   "cell_type": "markdown",
   "metadata": {},
   "source": [
    "To test the module we can use the following method which lets us load an external link to test it against our model"
   ]
  },
  {
   "cell_type": "code",
   "execution_count": 6,
   "metadata": {},
   "outputs": [
    {
     "name": "stdout",
     "output_type": "stream",
     "text": [
      "0.11734439047565193\n"
     ]
    }
   ],
   "source": [
    "print(text_generator.test('https://en.wikipedia.org/wiki/Rabat'))"
   ]
  },
  {
   "cell_type": "markdown",
   "metadata": {},
   "source": [
    "## Step 3"
   ]
  },
  {
   "cell_type": "markdown",
   "metadata": {},
   "source": [
    "Let's increase the order of our model and observe the results"
   ]
  },
  {
   "cell_type": "markdown",
   "metadata": {},
   "source": [
    "### 3rd Order"
   ]
  },
  {
   "cell_type": "code",
   "execution_count": 7,
   "metadata": {},
   "outputs": [
    {
     "name": "stdout",
     "output_type": "stream",
     "text": [
      "0.1953621849229664\n"
     ]
    }
   ],
   "source": [
    "text_generator_order_3 = TextGenerator(\n",
    "    order=3,\n",
    "    split_type='chars'\n",
    ")\n",
    "text_generator_order_3.load_article(['https://en.wikipedia.org/wiki/SpaceX'])\n",
    "text_generator_order_3.get_probability_matrix()\n",
    "print(text_generator_order_3.test('https://en.wikipedia.org/wiki/Rabat'))"
   ]
  },
  {
   "cell_type": "markdown",
   "metadata": {},
   "source": [
    "## 4th Order"
   ]
  },
  {
   "cell_type": "code",
   "execution_count": 8,
   "metadata": {},
   "outputs": [
    {
     "name": "stdout",
     "output_type": "stream",
     "text": [
      "0.278061695623558\n"
     ]
    }
   ],
   "source": [
    "text_generator_order_4 = TextGenerator(\n",
    "    order=4,\n",
    "    split_type='chars'\n",
    ")\n",
    "text_generator_order_4.load_article(['https://en.wikipedia.org/wiki/SpaceX'])\n",
    "text_generator_order_4.get_probability_matrix()\n",
    "print(text_generator_order_4.test('https://en.wikipedia.org/wiki/Rabat'))"
   ]
  },
  {
   "cell_type": "markdown",
   "metadata": {},
   "source": [
    "## Step 4"
   ]
  },
  {
   "cell_type": "markdown",
   "metadata": {},
   "source": [
    "At this stage we simply switch the split_type to words to use our module with words instead"
   ]
  },
  {
   "cell_type": "code",
   "execution_count": 9,
   "metadata": {},
   "outputs": [],
   "source": [
    "text_generator_words = TextGenerator(\n",
    "    order=2,\n",
    "    split_type='words'\n",
    ")\n",
    "text_generator_words.load_article(['https://en.wikipedia.org/wiki/SpaceX'])\n",
    "text_generator_words.get_probability_matrix()"
   ]
  },
  {
   "cell_type": "markdown",
   "metadata": {},
   "source": [
    "## Step 5"
   ]
  },
  {
   "cell_type": "markdown",
   "metadata": {},
   "source": [
    "Let's generate a random 100 words text given an initial state/word spacex"
   ]
  },
  {
   "cell_type": "code",
   "execution_count": 10,
   "metadata": {},
   "outputs": [
    {
     "data": {
      "text/plain": [
       "'spacex and as a smaller 9meterdiameter bfr to replace all chinese european rocket cores under development operation of an end ula spacex routinely returns the rocket restructuring to the original on 27 july 2019 spacex was dominated by march 2017 first launch costs to replace all spacex starship second stage on 8 july 2016 elon musk with satellite constellation began in 2010 the 3rd gps 3 june 2013 newspace flights in order to put a first of dollars in april 2011 retrieved 19 february 2017  spacex raised us350 million in 2015 lockheedboeing rocket launch facility redmond washington post hannah 6'"
      ]
     },
     "execution_count": 10,
     "metadata": {},
     "output_type": "execute_result"
    }
   ],
   "source": [
    "text_generator_words.generate('spacex', 100)"
   ]
  },
  {
   "cell_type": "code",
   "execution_count": null,
   "metadata": {},
   "outputs": [],
   "source": []
  }
 ],
 "metadata": {
  "kernelspec": {
   "display_name": "Python 3",
   "language": "python",
   "name": "python3"
  },
  "language_info": {
   "codemirror_mode": {
    "name": "ipython",
    "version": 3
   },
   "file_extension": ".py",
   "mimetype": "text/x-python",
   "name": "python",
   "nbconvert_exporter": "python",
   "pygments_lexer": "ipython3",
   "version": "3.8.5"
  }
 },
 "nbformat": 4,
 "nbformat_minor": 4
}
